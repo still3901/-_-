{
  "nbformat": 4,
  "nbformat_minor": 0,
  "metadata": {
    "colab": {
      "provenance": [],
      "mount_file_id": "1vqQYO952fmgpnVaNEBaglpFij1DMmgfK",
      "authorship_tag": "ABX9TyMp+0ihiw2xZE+PIi5oTrVA",
      "include_colab_link": true
    },
    "kernelspec": {
      "name": "python3",
      "display_name": "Python 3"
    },
    "language_info": {
      "name": "python"
    }
  },
  "cells": [
    {
      "cell_type": "markdown",
      "metadata": {
        "id": "view-in-github",
        "colab_type": "text"
      },
      "source": [
        "<a href=\"https://colab.research.google.com/github/still3901/Deep-Learning/blob/main/%EC%8B%A4%EC%8A%B5_03_re_%EB%9D%BC%EC%9D%B4%EB%B8%8C%EB%9F%AC%EB%A6%AC.ipynb\" target=\"_parent\"><img src=\"https://colab.research.google.com/assets/colab-badge.svg\" alt=\"Open In Colab\"/></a>"
      ]
    },
    {
      "cell_type": "markdown",
      "source": [
        "## re(정규 표현식)"
      ],
      "metadata": {
        "id": "YUtuO-xMq0mh"
      }
    },
    {
      "cell_type": "code",
      "execution_count": null,
      "metadata": {
        "id": "pSgS0Sx4qgpx"
      },
      "outputs": [],
      "source": [
        "### 필요한 모듈 임폴트\n",
        "import re"
      ]
    },
    {
      "cell_type": "code",
      "source": [
        "### 함수 사용법\n",
        "'''\n",
        "re.sub() : 문자열에서 패턴과 일치하는 부분에 대해서 다른 문자열로 대체\n",
        "re.sub(pattern, repl, string)\n",
        "pattern의 종류(소문자와 대문자는 반대의 개념)\n",
        "- \\d : 숫자 / \\D : 숫자가 아닌\n",
        "- \\w : 문자 혹은 숫자 / \\W : 문자 혹은 숫자가 아닌(문장부호 등)\n",
        "'''\n",
        "pattern = \"\\d\"\n",
        "repl = 'number'\n",
        "string = '7 candy 294.3'\n",
        "result = re.sub(pattern, repl, string)\n",
        "\n",
        "# 결과 확인하기\n",
        "print(result)"
      ],
      "metadata": {
        "colab": {
          "base_uri": "https://localhost:8080/"
        },
        "id": "jxO69q92rQmS",
        "outputId": "4db40ebd-6564-4d8c-ee62-d6655b19d294"
      },
      "execution_count": null,
      "outputs": [
        {
          "output_type": "stream",
          "name": "stdout",
          "text": [
            "number candy numbernumbernumber.number\n"
          ]
        }
      ]
    },
    {
      "cell_type": "code",
      "source": [
        "### pattern 정리\n",
        "\n",
        "# 문자 또는 숫자를 찾을 수 있는 패턴\n",
        "pattern1 = '\\w'\n",
        "\n",
        "# 영어 알파벳을 찾을 수 있는 패턴\n",
        "pattern2 = '[a-zA-Z]'\n",
        "\n",
        "# 영어 알파벳 또는 숫자를 찾을 수 있는 패턴\n",
        "pattern3 = '[a-zA-Z0-9]'\n",
        "\n",
        "# 한글(자음, 모음, 글자)을 찾을 수 있는 패턴\n",
        "pattern4 = '[ㄱ-ㅎㅏ-ㅣ가-힣]'\n",
        "\n",
        "# 한글(글자)을 찾을 수 있는 패턴\n",
        "pattern5 = '[가-힣]'\n",
        "\n",
        "# 숫자를 찾을 수 있는 패턴(1)\n",
        "pattern6 = '\\d'\n",
        "\n",
        "# 숫자를 찾을 수 있는 패턴(2)\n",
        "pattern7 = '[0-9]'\n",
        "\n",
        "# 한글(글자) 또는 숫자를 찾을 수 있는 패턴\n",
        "pattern8 = '[가-힣0-9]'\n",
        "\n",
        "# 한글(글자)를 제외한 나머지(한글 자음, 한글 모음, 영어, 기타 문자, 문장부호, 숫자, ...)\n",
        "pattern9 = '[^가-힣]'\n",
        "\n",
        "# 한글(글자)와 숫자를 제외한 나머지(한글 자음, 한글 모음, 영어, 기타 문자, 문장부호, ... )\n",
        "pattern10 = '[^가-힣0-9]'\n",
        "\n",
        "# 영어 알파벳 또는 숫자를 제외한 나머지(한글, 기타 문자, 문장 부호, ...)\n",
        "pattern11 = '[^a-zA-Z0-9]'\n",
        "\n",
        "# 숫자를 제외한 나머지(문자, 문장 부호)\n",
        "pattern12 = '[^0-9]'\n",
        "\n",
        "# 퀴즈 : 한글(글자)와 공백을 제외한 나머지\n",
        "pattern13 = '[^가-힣 ]'"
      ],
      "metadata": {
        "id": "v9cv8-ZhtaBv"
      },
      "execution_count": null,
      "outputs": []
    },
    {
      "cell_type": "code",
      "source": [],
      "metadata": {
        "id": "585cBa9ny1CL"
      },
      "execution_count": null,
      "outputs": []
    }
  ]
}